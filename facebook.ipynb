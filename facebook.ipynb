{
 "cells": [
  {
   "cell_type": "code",
   "execution_count": 1,
   "id": "a46be873",
   "metadata": {},
   "outputs": [
    {
     "name": "stdout",
     "output_type": "stream",
     "text": [
      "200\n",
      "{\"id\":\"627288380470996_122093135684875603\"}\n"
     ]
    }
   ],
   "source": [
    "import requests\n",
    "\n",
    "page_id = '627288380470996'\n",
    "message = 'Hello Mooniu đã trở lại!'\n",
    "access_token = 'EAAT9iktIZBq0BOwmcWs98xibL9PSp8yRgDjrmrSsZCFVFoFrZAR8736AxurUNZBPp4E4mL0O5DBmLNfHDfZCApYIMuaoRrUESEIAaSuUFmFohncoFYIcETcTOZCRZAFF9NJTHuo9OY7wsZBSopj1hLTjYseNqOk84ZBaWDKqEVwvqiyv0Kim8FNMQMfMkXUcl9xZBwYJRMQizcZCYYVSMPcnZCg1ZB0YF8SQIe3OnuemsiKBPvwZDZD'\n",
    "\n",
    "url = f'https://graph.facebook.com/{627288380470996}/feed'\n",
    "payload = {\n",
    "    'message': message,\n",
    "    'access_token': access_token\n",
    "}\n",
    "\n",
    "r = requests.post(url, data=payload)\n",
    "print(r.status_code)\n",
    "print(r.text)"
   ]
  }
 ],
 "metadata": {
  "kernelspec": {
   "display_name": "Nguyet",
   "language": "python",
   "name": "python3"
  },
  "language_info": {
   "codemirror_mode": {
    "name": "ipython",
    "version": 3
   },
   "file_extension": ".py",
   "mimetype": "text/x-python",
   "name": "python",
   "nbconvert_exporter": "python",
   "pygments_lexer": "ipython3",
   "version": "3.12.9"
  }
 },
 "nbformat": 4,
 "nbformat_minor": 5
}
